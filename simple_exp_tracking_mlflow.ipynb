{
 "cells": [
  {
   "cell_type": "code",
   "execution_count": 2,
   "metadata": {},
   "outputs": [],
   "source": [
    "import os\n",
    "import warnings\n",
    "import sys\n",
    "\n",
    "import pandas as pd\n",
    "import numpy as np\n",
    "from sklearn.metrics import mean_squared_error, mean_absolute_error, r2_score\n",
    "from sklearn.model_selection import train_test_split\n",
    "from sklearn.model_selection import ParameterGrid\n",
    "from sklearn.linear_model import ElasticNet\n",
    "from sklearn.ensemble import RandomForestRegressor\n",
    "from sklearn.preprocessing import LabelEncoder\n",
    "from imblearn.over_sampling import SMOTE\n",
    "\n",
    "import mlflow\n",
    "from mlflow.models import infer_signature\n",
    "import mlflow.sklearn\n",
    "\n",
    "import logging\n",
    "\n",
    "import matplotlib.pyplot as plt\n",
    "import seaborn as sns"
   ]
  },
  {
   "cell_type": "code",
   "execution_count": 3,
   "metadata": {},
   "outputs": [],
   "source": [
    "logging.basicConfig(level=logging.WARN)\n",
    "logger = logging.getLogger(__name__)"
   ]
  },
  {
   "cell_type": "code",
   "execution_count": 4,
   "metadata": {},
   "outputs": [],
   "source": [
    "def eval_metrics(actual, pred):\n",
    "    rmse = np.sqrt(mean_squared_error(actual, pred))\n",
    "    mae = mean_absolute_error(actual, pred)\n",
    "    r2 = r2_score(actual, pred)\n",
    "    return rmse, mae, r2"
   ]
  },
  {
   "cell_type": "code",
   "execution_count": 5,
   "metadata": {},
   "outputs": [],
   "source": [
    "def load_and_process_data():\n",
    "    # Read the csv files\n",
    "    data = pd.read_csv('data/application_record.csv')\n",
    "    record = pd.read_csv('data/credit_record.csv')\n",
    "\n",
    "    # find all users' account open month.\n",
    "    begin_month=pd.DataFrame(record.groupby([\"ID\"])[\"MONTHS_BALANCE\"].agg(min))\n",
    "    begin_month=begin_month.rename(columns={'MONTHS_BALANCE':'begin_month'}) \n",
    "\n",
    "    new_data=pd.merge(data,begin_month,how=\"left\",on=\"ID\") #merge to record datatrain_raw_data.head()\n",
    "\n",
    "    record['dep_value'] = None\n",
    "    record.loc[record['STATUS'].isin(['2', '3', '4', '5']), 'dep_value'] = 'Yes'\n",
    "\n",
    "    cpunt=record.groupby('ID').count()\n",
    "    cpunt['dep_value'][cpunt['dep_value'] > 0]='Yes' \n",
    "    cpunt['dep_value'][cpunt['dep_value'] == 0]='No' \n",
    "    cpunt = cpunt[['dep_value']]\n",
    "\n",
    "    merge_data=pd.merge(new_data,cpunt,how='inner',on='ID')\n",
    "    return merge_data"
   ]
  },
  {
   "cell_type": "code",
   "execution_count": 15,
   "metadata": {},
   "outputs": [
    {
     "data": {
      "image/png": "[encoded data removed]",
      "text/plain": [
       "<Figure size 800x600 with 1 Axes>"
      ]
     },
     "metadata": {},
     "output_type": "display_data"
    }
   ],
   "source": [
    "# Counts of each class in the target variable\n",
    "merge_data = load_and_process_data()\n",
    "class_counts = merge_data['dep_value'].value_counts()\n",
    "\n",
    "plt.figure(figsize=(8, 6))\n",
    "plt.bar(class_counts.index, class_counts.values, color=['blue', 'red'])\n",
    "plt.xlabel('Credit Approval Status')\n",
    "plt.ylabel('Count')\n",
    "plt.title('Distribution of Credit Approval Status')\n",
    "plt.show()"
   ]
  },
  {
   "cell_type": "code",
   "execution_count": 6,
   "metadata": {},
   "outputs": [],
   "source": [
    "def preprocess_data(merge_data):\n",
    "    # Check for missing values (NaN) in the DataFrame\n",
    "    print(merge_data.isna().sum())\n",
    "\n",
    "    # Drop rows with any NaN values\n",
    "    merge_data.dropna(inplace=True)\n",
    "\n",
    "    # Display the first few rows of the cleaned DataFrame\n",
    "    merge_data.head()\n",
    "\n",
    "    # Now, we remove OCCUPATION_TYPE. As we said, it have too many missed data\n",
    "    # In addition, we will get rid of FLAG_MOBIL, FLAG_WORK_PHONE, FLAG_PHONE and FLAG_EMAIL. \n",
    "    # These parameters do not affect in any way whether a person is creditworthy or not.\n",
    "    merge_data.drop(['ID','FLAG_WORK_PHONE','FLAG_PHONE','FLAG_EMAIL'], axis=1, inplace=True) \n",
    "\n",
    "    # Now, let's convert all non-numeric data to numeric data using LabelEncoder().\n",
    "    le = LabelEncoder()\n",
    "    for x in merge_data:\n",
    "        if merge_data[x].dtypes == 'object':\n",
    "            merge_data[x] = le.fit_transform(merge_data[x])\n",
    "\n",
    "    data = merge_data.copy()\n",
    "\n",
    "    X = data.iloc[:,1:-1] # X value contains all the variables except labels\n",
    "    y = data.iloc[:,-1] # these are the labels\n",
    "\n",
    "    # Split the data into training and test sets. (0.70, 0.30) split.\n",
    "    X_train, X_test, y_train, y_test = train_test_split(X, y, test_size=0.3)\n",
    "\n",
    "    oversample = SMOTE()\n",
    "    X_train, y_train = oversample.fit_resample(X_train, y_train)\n",
    "    X_test, y_test = oversample.fit_resample(X_test, y_test)\n",
    "    \n",
    "    return X_train, X_test, y_train, y_test"
   ]
  },
  {
   "cell_type": "code",
   "execution_count": 10,
   "metadata": {},
   "outputs": [],
   "source": [
    "def get_experiment_id(experiment_name):\n",
    "    experiment = mlflow.get_experiment_by_name(experiment_name)\n",
    "    if experiment:\n",
    "        return experiment.experiment_id\n",
    "    else:\n",
    "        return mlflow.create_experiment(experiment_name)"
   ]
  },
  {
   "cell_type": "code",
   "execution_count": 11,
   "metadata": {},
   "outputs": [],
   "source": [
    "def train_models(X_train, X_test, y_train, y_test):\n",
    "\n",
    "    mlflow.set_tracking_uri(\"sqlite:///mlflow.db\")\n",
    "    experiment_id = get_experiment_id(\"simple_exp\")\n",
    "\n",
    "    models = [\n",
    "        {\"name\": \"RandomForest\",\n",
    "         \"model\": RandomForestRegressor(),\n",
    "         \"parameters\": {\"n_estimators\": [10, 50, 100], \"max_depth\": [None, 5, 10]}},\n",
    "        {\"name\": \"ElasticNet\",\n",
    "         \"model\": ElasticNet(),\n",
    "         \"parameters\": {\"alpha\": [0.1, 0.5, 1.0], \"l1_ratio\": [0.1, 0.5, 1.0]}},\n",
    "        # Add more models here\n",
    "    ]\n",
    "\n",
    "    for model_info in models:\n",
    "        model_name = model_info[\"name\"]\n",
    "        model = model_info[\"model\"]\n",
    "        param_grid = model_info[\"parameters\"]\n",
    "\n",
    "        for parameters in ParameterGrid(param_grid):\n",
    "            model.set_params(**parameters)\n",
    "            with mlflow.start_run(experiment_id=experiment_id):\n",
    "                model.fit(X_train, y_train)\n",
    "\n",
    "                predicted_qualities = model.predict(X_test)\n",
    "\n",
    "                (rmse, mae, r2) = eval_metrics(y_test, predicted_qualities)\n",
    "\n",
    "                print(f\"{model_name} model (parameters={parameters}):\")\n",
    "                print(\"  RMSE: %s\" % rmse)\n",
    "                print(\"  MAE: %s\" % mae)\n",
    "                print(\"  R2: %s\" % r2)\n",
    "\n",
    "                mlflow.log_param(\"model_name\", model_name)\n",
    "                mlflow.log_params(parameters)\n",
    "                mlflow.log_metric(\"rmse\", rmse)\n",
    "                mlflow.log_metric(\"r2\", r2)\n",
    "                mlflow.log_metric(\"mae\", mae)\n",
    "\n",
    "                predictions = model.predict(X_train)\n",
    "                signature = infer_signature(X_train, predictions)\n",
    "\n",
    "                mlflow.sklearn.log_model(model, f\"{model_name}_model\", signature=signature)"
   ]
  },
  {
   "cell_type": "code",
   "execution_count": 8,
   "metadata": {},
   "outputs": [
    {
     "name": "stdout",
     "output_type": "stream",
     "text": [
      "ID                         0\n",
      "CODE_GENDER                0\n",
      "FLAG_OWN_CAR               0\n",
      "FLAG_OWN_REALTY            0\n",
      "CNT_CHILDREN               0\n",
      "AMT_INCOME_TOTAL           0\n",
      "NAME_INCOME_TYPE           0\n",
      "NAME_EDUCATION_TYPE        0\n",
      "NAME_FAMILY_STATUS         0\n",
      "NAME_HOUSING_TYPE          0\n",
      "DAYS_BIRTH                 0\n",
      "DAYS_EMPLOYED              0\n",
      "FLAG_MOBIL                 0\n",
      "FLAG_WORK_PHONE            0\n",
      "FLAG_PHONE                 0\n",
      "FLAG_EMAIL                 0\n",
      "OCCUPATION_TYPE        11323\n",
      "CNT_FAM_MEMBERS            0\n",
      "begin_month                0\n",
      "dep_value                  0\n",
      "dtype: int64\n",
      "RandomForest model (parameters={'max_depth': None, 'n_estimators': 10}):\n",
      "  RMSE: 0.3739611750002683\n",
      "  MAE: 0.2047116208912273\n",
      "  R2: 0.4406121583696747\n",
      "RandomForest model (parameters={'max_depth': None, 'n_estimators': 50}):\n",
      "  RMSE: 0.3653397971299176\n",
      "  MAE: 0.20297122760414474\n",
      "  R2: 0.4661073305322826\n",
      "RandomForest model (parameters={'max_depth': None, 'n_estimators': 100}):\n",
      "  RMSE: 0.366171865652859\n",
      "  MAE: 0.20262409157445885\n",
      "  R2: 0.46367265921721834\n",
      "RandomForest model (parameters={'max_depth': 5, 'n_estimators': 10}):\n",
      "  RMSE: 0.4086252260170003\n",
      "  MAE: 0.3465080265835798\n",
      "  R2: 0.33210169865022166\n",
      "RandomForest model (parameters={'max_depth': 5, 'n_estimators': 50}):\n",
      "  RMSE: 0.4047115480300446\n",
      "  MAE: 0.3462983707865507\n",
      "  R2: 0.34483425156449965\n",
      "RandomForest model (parameters={'max_depth': 5, 'n_estimators': 100}):\n",
      "  RMSE: 0.4057940521041971\n",
      "  MAE: 0.3465011833622925\n",
      "  R2: 0.3413247491074247\n",
      "RandomForest model (parameters={'max_depth': 10, 'n_estimators': 10}):\n",
      "  RMSE: 0.3548773031914902\n",
      "  MAE: 0.23671797020955723\n",
      "  R2: 0.4962483987181405\n",
      "RandomForest model (parameters={'max_depth': 10, 'n_estimators': 50}):\n",
      "  RMSE: 0.35040532031743415\n",
      "  MAE: 0.23539910872197378\n",
      "  R2: 0.5088644459729454\n",
      "RandomForest model (parameters={'max_depth': 10, 'n_estimators': 100}):\n",
      "  RMSE: 0.35209083307962463\n",
      "  MAE: 0.2367429082199681\n",
      "  R2: 0.5041281810451836\n",
      "ElasticNet model (parameters={'alpha': 0.1, 'l1_ratio': 0.1}):\n",
      "  RMSE: 0.43671447405500097\n",
      "  MAE: 0.40474870089845505\n",
      "  R2: 0.23712187260345563\n",
      "ElasticNet model (parameters={'alpha': 0.1, 'l1_ratio': 0.5}):\n",
      "  RMSE: 0.4610957128145297\n",
      "  MAE: 0.4396986064769873\n",
      "  R2: 0.149562974496243\n",
      "ElasticNet model (parameters={'alpha': 0.1, 'l1_ratio': 1.0}):\n",
      "  RMSE: 0.466825897370661\n",
      "  MAE: 0.4475893455984518\n",
      "  R2: 0.12829432617630843\n",
      "ElasticNet model (parameters={'alpha': 0.5, 'l1_ratio': 0.1}):\n",
      "  RMSE: 0.4640763820301874\n",
      "  MAE: 0.4431030125663718\n",
      "  R2: 0.13853244656708608\n",
      "ElasticNet model (parameters={'alpha': 0.5, 'l1_ratio': 0.5}):\n",
      "  RMSE: 0.4680589733922981\n",
      "  MAE: 0.4526460721614219\n",
      "  R2: 0.12368318970779191\n",
      "ElasticNet model (parameters={'alpha': 0.5, 'l1_ratio': 1.0}):\n",
      "  RMSE: 0.4706568459858317\n",
      "  MAE: 0.45819869291603105\n",
      "  R2: 0.1139285333066764\n",
      "ElasticNet model (parameters={'alpha': 1.0, 'l1_ratio': 0.1}):\n",
      "  RMSE: 0.4667869694419522\n",
      "  MAE: 0.44786257896280146\n",
      "  R2: 0.128439700636792\n",
      "ElasticNet model (parameters={'alpha': 1.0, 'l1_ratio': 0.5}):\n",
      "  RMSE: 0.47068159401602244\n",
      "  MAE: 0.45825461255886685\n",
      "  R2: 0.113835348218145\n",
      "ElasticNet model (parameters={'alpha': 1.0, 'l1_ratio': 1.0}):\n",
      "  RMSE: 0.47610335432523937\n",
      "  MAE: 0.468077843759503\n",
      "  R2: 0.09330238400102231\n"
     ]
    }
   ],
   "source": [
    "if __name__ == \"__main__\":\n",
    "    warnings.filterwarnings(\"ignore\")\n",
    "    np.random.seed(40)\n",
    "\n",
    "    merge_data = load_and_process_data()\n",
    "    X_train, X_test, y_train, y_test = preprocess_data(merge_data)\n",
    "    train_models(X_train, X_test, y_train, y_test)"
   ]
  },
  {
   "cell_type": "code",
   "execution_count": 12,
   "metadata": {},
   "outputs": [
    {
     "data": {
      "text/plain": [
       "metrics.mae     0.235399\n",
       "metrics.rmse    0.350405\n",
       "metrics.r2      0.508864\n",
       "Name: 28, dtype: object"
      ]
     },
     "execution_count": 12,
     "metadata": {},
     "output_type": "execute_result"
    }
   ],
   "source": [
    "experiment_id = get_experiment_id(\"simple_exp\")\n",
    "runs = mlflow.search_runs(experiment_ids=[experiment_id])\n",
    "\n",
    "# Sort by one of the metrics and get the top run\n",
    "best_run = runs.sort_values(\"metrics.rmse\").iloc[0]\n",
    "\n",
    "params = best_run.loc[[name.startswith(\"params.\") for name in best_run.index]]\n",
    "metrics = best_run.loc[[name.startswith(\"metrics.\") for name in best_run.index]]\n",
    "\n",
    "params\n",
    "metrics"
   ]
  },
  {
   "cell_type": "code",
   "execution_count": 13,
   "metadata": {},
   "outputs": [
    {
     "data": {
      "image/png": "[encoded data removed]",
      "text/plain": [
       "<Figure size 1200x600 with 1 Axes>"
      ]
     },
     "metadata": {},
     "output_type": "display_data"
    }
   ],
   "source": [
    "# Create a boxplot for RMSE scores of each model\n",
    "plt.figure(figsize=(12, 6))\n",
    "sns.boxplot(data=runs, x='params.model_name', y='metrics.rmse')\n",
    "plt.title('RMSE Scores of Models')\n",
    "plt.xlabel('Model')\n",
    "plt.ylabel('RMSE')\n",
    "plt.show()"
   ]
  }
 ],
 "metadata": {
  "kernelspec": {
   "display_name": "credit_card_env",
   "language": "python",
   "name": "python3"
  },
  "language_info": {
   "codemirror_mode": {
    "name": "ipython",
    "version": 3
   },
   "file_extension": ".py",
   "mimetype": "text/x-python",
   "name": "python",
   "nbconvert_exporter": "python",
   "pygments_lexer": "ipython3",
   "version": "3.10.11"
  },
  "orig_nbformat": 4
 },
 "nbformat": 4,
 "nbformat_minor": 2
}
